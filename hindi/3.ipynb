{
 "cells": [
  {
   "cell_type": "code",
   "execution_count": 14,
   "metadata": {},
   "outputs": [],
   "source": [
    "import librosa\n",
    "import numpy as np\n",
    "from keras.models import Sequential\n",
    "from keras.layers import Dense, Dropout, Flatten, Conv1D, MaxPooling1D\n",
    "from keras.utils import to_categorical\n",
    "from sklearn.model_selection import train_test_split\n",
    "from sklearn.metrics import accuracy_score\n",
    "import matplotlib.pyplot as plt\n",
    "from keras.models import load_model"
   ]
  },
  {
   "cell_type": "code",
   "execution_count": 15,
   "metadata": {},
   "outputs": [],
   "source": [
    "def load_audio_files(file_paths):\n",
    "    y_list = []\n",
    "    sr_list = []\n",
    "\n",
    "    for file_path in file_paths:\n",
    "        y, sr = librosa.load(file_path)\n",
    "        y_list.append(y)\n",
    "        sr_list.append(sr)\n",
    "\n",
    "    return y_list, sr_list\n",
    "\n",
    "def preprocess_audio(y_list, sr_list, n_fft=2048, hop_length=512, n_mels=128):\n",
    "    spectrograms = []\n",
    "\n",
    "    for y, sr in zip(y_list, sr_list):\n",
    "        spectrogram = librosa.feature.melspectrogram(y=y, sr=sr, n_fft=n_fft, hop_length=hop_length, n_mels=n_mels)\n",
    "        spectrograms.append(spectrogram)\n",
    "\n",
    "    spectrograms = np.array(spectrograms)\n",
    "    spectrograms = np.transpose(spectrograms, (0, 2, 1))\n",
    "\n",
    "    return spectrograms"
   ]
  },
  {
   "cell_type": "code",
   "execution_count": 19,
   "metadata": {},
   "outputs": [
    {
     "ename": "TypeError",
     "evalue": "cannot unpack non-iterable NoneType object",
     "output_type": "error",
     "traceback": [
      "\u001b[1;31m---------------------------------------------------------------------------\u001b[0m",
      "\u001b[1;31mTypeError\u001b[0m                                 Traceback (most recent call last)",
      "Cell \u001b[1;32mIn[19], line 22\u001b[0m\n\u001b[0;32m     17\u001b[0m hindi_file_paths \u001b[38;5;241m=\u001b[39m [\u001b[38;5;124m\"\u001b[39m\u001b[38;5;124mC:\u001b[39m\u001b[38;5;130;01m\\\\\u001b[39;00m\u001b[38;5;124mUsers\u001b[39m\u001b[38;5;130;01m\\\\\u001b[39;00m\u001b[38;5;124mAbhishek Mishra\u001b[39m\u001b[38;5;130;01m\\\\\u001b[39;00m\u001b[38;5;124mDesktop\u001b[39m\u001b[38;5;130;01m\\\\\u001b[39;00m\u001b[38;5;124mhindi\u001b[39m\u001b[38;5;130;01m\\\\\u001b[39;00m\u001b[38;5;124m1.wav\u001b[39m\u001b[38;5;124m\"\u001b[39m,\n\u001b[0;32m     18\u001b[0m                     \u001b[38;5;124m\"\u001b[39m\u001b[38;5;124mC:\u001b[39m\u001b[38;5;130;01m\\\\\u001b[39;00m\u001b[38;5;124mUsers\u001b[39m\u001b[38;5;130;01m\\\\\u001b[39;00m\u001b[38;5;124mAbhishek Mishra\u001b[39m\u001b[38;5;130;01m\\\\\u001b[39;00m\u001b[38;5;124mDesktop\u001b[39m\u001b[38;5;130;01m\\\\\u001b[39;00m\u001b[38;5;124mhindi\u001b[39m\u001b[38;5;130;01m\\\\\u001b[39;00m\u001b[38;5;124m2.wav\u001b[39m\u001b[38;5;124m\"\u001b[39m,\n\u001b[0;32m     19\u001b[0m                     \u001b[38;5;124m\"\u001b[39m\u001b[38;5;124mC:\u001b[39m\u001b[38;5;130;01m\\\\\u001b[39;00m\u001b[38;5;124mUsers\u001b[39m\u001b[38;5;130;01m\\\\\u001b[39;00m\u001b[38;5;124mAbhishek Mishra\u001b[39m\u001b[38;5;130;01m\\\\\u001b[39;00m\u001b[38;5;124mDesktop\u001b[39m\u001b[38;5;130;01m\\\\\u001b[39;00m\u001b[38;5;124mhindi\u001b[39m\u001b[38;5;130;01m\\\\\u001b[39;00m\u001b[38;5;124m3.wav\u001b[39m\u001b[38;5;124m\"\u001b[39m]\n\u001b[0;32m     21\u001b[0m \u001b[38;5;66;03m# Load audio files and convert them into spectrograms\u001b[39;00m\n\u001b[1;32m---> 22\u001b[0m y_english, sr_english \u001b[38;5;241m=\u001b[39m load_audio_files(english_file_paths)\n\u001b[0;32m     23\u001b[0m y_hindi, sr_hindi \u001b[38;5;241m=\u001b[39m load_audio_files(hindi_file_paths)\n\u001b[0;32m     25\u001b[0m \u001b[38;5;66;03m# Preprocess the spectrograms\u001b[39;00m\n",
      "\u001b[1;31mTypeError\u001b[0m: cannot unpack non-iterable NoneType object"
     ]
    }
   ],
   "source": [
    "from sklearn.model_selection import train_test_split\n",
    "from tensorflow.keras.utils import to_categorical\n",
    "\n",
    "# Assuming you have the necessary functions defined for loading and preprocessing audio files\n",
    "def load_audio_files(file_paths):\n",
    "    # Your implementation here\n",
    "    pass\n",
    "\n",
    "def preprocess_audio(y, sr):\n",
    "    # Your implementation here\n",
    "    pass\n",
    "\n",
    "# Load audio files\n",
    "english_file_paths = [\"C:\\\\Users\\\\Abhishek Mishra\\\\Desktop\\\\sentence dataset\\\\1.wav\",\n",
    "                      \"C:\\\\Users\\\\Abhishek Mishra\\\\Desktop\\\\sentence dataset\\\\2.wav\",\n",
    "                      \"C:\\\\Users\\\\Abhishek Mishra\\\\Desktop\\\\sentence dataset\\\\3.wav\"]\n",
    "hindi_file_paths = [\"C:\\\\Users\\\\Abhishek Mishra\\\\Desktop\\\\hindi\\\\1.wav\",\n",
    "                    \"C:\\\\Users\\\\Abhishek Mishra\\\\Desktop\\\\hindi\\\\2.wav\",\n",
    "                    \"C:\\\\Users\\\\Abhishek Mishra\\\\Desktop\\\\hindi\\\\3.wav\"]\n",
    "\n",
    "# Load audio files and convert them into spectrograms\n",
    "y_english, sr_english = load_audio_files(english_file_paths)\n",
    "y_hindi, sr_hindi = load_audio_files(hindi_file_paths)\n",
    "\n",
    "# Preprocess the spectrograms\n",
    "X_english = preprocess_audio(y_english, sr_english)\n",
    "X_hindi = preprocess_audio(y_hindi, sr_hindi)\n",
    "\n",
    "# Define the number of classes\n",
    "n_classes = 3\n",
    "\n",
    "# Convert the labels to one-hot encoding\n",
    "y_english = to_categorical(np.array([0]*len(english_file_paths)), num_classes=n_classes)\n",
    "y_hindi = to_categorical(np.array([1]*len(hindi_file_paths)), num_classes=n_classes)\n",
    "\n",
    "# Split the data into training and testing sets for English\n",
    "X_train_english, X_test_english, y_train_english, y_test_english = train_test_split(X_english, y_english, test_size=0.2, random_state=42)\n",
    "\n",
    "# Split the data into training and testing sets for Hindi\n",
    "X_train_hindi, X_test_hindi, y_train_hindi, y_test_hindi = train_test_split(X_hindi, y_hindi, test_size=0.2, random_state=42)\n",
    "\n",
    "# Combine the training and testing sets\n",
    "X_train = np.concatenate((X_train_english, X_train_hindi))\n",
    "y_train = np.concatenate((y_train_english, y_train_hindi))\n",
    "X_test = np.concatenate((X_test_english, X_test_hindi))\n",
    "y_test = np.concatenate((y_test_english, y_test_hindi))\n"
   ]
  }
 ],
 "metadata": {
  "kernelspec": {
   "display_name": "base",
   "language": "python",
   "name": "python3"
  },
  "language_info": {
   "codemirror_mode": {
    "name": "ipython",
    "version": 3
   },
   "file_extension": ".py",
   "mimetype": "text/x-python",
   "name": "python",
   "nbconvert_exporter": "python",
   "pygments_lexer": "ipython3",
   "version": "3.11.5"
  }
 },
 "nbformat": 4,
 "nbformat_minor": 2
}
